{
  "nbformat": 4,
  "nbformat_minor": 0,
  "metadata": {
    "colab": {
      "provenance": [],
      "authorship_tag": "ABX9TyM/lWntMTlY5jwLPd7PewsP",
      "include_colab_link": true
    },
    "kernelspec": {
      "name": "python3",
      "display_name": "Python 3"
    },
    "language_info": {
      "name": "python"
    }
  },
  "cells": [
    {
      "cell_type": "markdown",
      "metadata": {
        "id": "view-in-github",
        "colab_type": "text"
      },
      "source": [
        "<a href=\"https://colab.research.google.com/github/Aulianadya/PEMODELAN--SIMULASI/blob/main/Pemodelan_Project_UTS.ipynb\" target=\"_parent\"><img src=\"https://colab.research.google.com/assets/colab-badge.svg\" alt=\"Open In Colab\"/></a>"
      ]
    },
    {
      "cell_type": "code",
      "execution_count": null,
      "metadata": {
        "id": "e2lC88jS-1Wz"
      },
      "outputs": [],
      "source": [
        "from dataclasses import dataclass\n",
        "from datetime import datetime\n",
        "from typing import List, Dict\n",
        "import random\n",
        "import csv"
      ]
    },
    {
      "cell_type": "code",
      "source": [
        "@dataclass\n",
        "class Trainer:\n",
        "    id: int\n",
        "    name: str\n",
        "    coins: int = 100"
      ],
      "metadata": {
        "id": "c2IlgSQp-5HV"
      },
      "execution_count": null,
      "outputs": []
    },
    {
      "cell_type": "code",
      "source": [
        "@dataclass\n",
        "class Student:\n",
        "    id: int\n",
        "    name: str"
      ],
      "metadata": {
        "id": "loE_jUr6-60g"
      },
      "execution_count": null,
      "outputs": []
    },
    {
      "cell_type": "code",
      "source": [
        "@dataclass\n",
        "class Course:\n",
        "    id: int\n",
        "    title: str\n",
        "    trainer_id: int\n",
        "    price: float"
      ],
      "metadata": {
        "id": "oQACN9K6-7mc"
      },
      "execution_count": null,
      "outputs": []
    },
    {
      "cell_type": "code",
      "source": [
        "@dataclass\n",
        "class Enrollment:\n",
        "    student_id: int\n",
        "    course_id: int\n",
        "    status: str = 'pending'"
      ],
      "metadata": {
        "id": "mJ73ZcCn-9f8"
      },
      "execution_count": null,
      "outputs": []
    },
    {
      "cell_type": "code",
      "source": [
        "@dataclass\n",
        "class Review:\n",
        "    student_id: int\n",
        "    course_id: int\n",
        "    rating: int\n",
        "    comment: str"
      ],
      "metadata": {
        "id": "mk8zXjB2_AYr"
      },
      "execution_count": null,
      "outputs": []
    },
    {
      "cell_type": "code",
      "source": [
        "@dataclass\n",
        "class Assignment:\n",
        "    class_id: int\n",
        "    title: str\n",
        "    due_date: datetime"
      ],
      "metadata": {
        "id": "pXQ_0sxk_BVk"
      },
      "execution_count": null,
      "outputs": []
    },
    {
      "cell_type": "code",
      "source": [
        "trainers: Dict[int, Trainer] = {}\n",
        "students: Dict[int, Student] = {}\n",
        "courses: Dict[int, Course] = {}\n",
        "enrollments: List[Enrollment] = []\n",
        "reviews: List[Review] = []\n",
        "assignments: List[Assignment] = []"
      ],
      "metadata": {
        "id": "z5wapPBQ_DTl"
      },
      "execution_count": null,
      "outputs": []
    },
    {
      "cell_type": "code",
      "source": [
        "# Add sample data\n",
        "trainer_names = [\"Alice\", \"Bob\", \"Cindy\", \"David\", \"Eva\"]\n",
        "student_names = [\"Charlie\", \"Dana\", \"Eli\", \"Fiona\", \"George\", \"Hannah\", \"Ian\", \"Jill\", \"Kevin\", \"Lena\"]\n",
        "course_titles = [\"Learn SQL\", \"Intro to AWS\", \"Python Basics\", \"Data Modeling\", \"Cloud Fundamentals\"]"
      ],
      "metadata": {
        "id": "zsCeyumS_GFg"
      },
      "execution_count": null,
      "outputs": []
    },
    {
      "cell_type": "code",
      "source": [
        "for i, name in enumerate(trainer_names, start=1):\n",
        "    trainers[i] = Trainer(id=i, name=name)"
      ],
      "metadata": {
        "id": "Iwp_IC5y_G0w"
      },
      "execution_count": null,
      "outputs": []
    },
    {
      "cell_type": "code",
      "source": [
        "for i, name in enumerate(student_names, start=1):\n",
        "    students[i] = Student(id=i, name=name)"
      ],
      "metadata": {
        "id": "tiZ47BaH_I7x"
      },
      "execution_count": null,
      "outputs": []
    },
    {
      "cell_type": "code",
      "source": [
        "course_id = 1\n",
        "for trainer_id in trainers:\n",
        "    for title in course_titles:\n",
        "        courses[course_id] = Course(id=course_id, title=title, trainer_id=trainer_id, price=random.randint(100, 500))\n",
        "        course_id += 1"
      ],
      "metadata": {
        "id": "Pihlhu9R_LHU"
      },
      "execution_count": null,
      "outputs": []
    },
    {
      "cell_type": "code",
      "source": [
        "# Student Enrollment\n",
        "def enroll(student_id: int, course_id: int):\n",
        "    enrollments.append(Enrollment(student_id=student_id, course_id=course_id))\n",
        "    print(f\"Student {students[student_id].name} enrolled in {courses[course_id].title}\")"
      ],
      "metadata": {
        "id": "ipTfEl5b_M8Y"
      },
      "execution_count": null,
      "outputs": []
    },
    {
      "cell_type": "code",
      "source": [
        "# Trainer views student using coins\n",
        "def view_student(trainer_id: int):\n",
        "    trainer = trainers[trainer_id]\n",
        "    if trainer.coins >= 5:\n",
        "        trainer.coins -= 5\n",
        "        print(f\"Trainer {trainer.name} viewed a student. Remaining coins: {trainer.coins}\")\n",
        "    else:\n",
        "        print(f\"Trainer {trainer.name} does not have enough coins.\")\n"
      ],
      "metadata": {
        "id": "sk5UnQp7_O0K"
      },
      "execution_count": null,
      "outputs": []
    },
    {
      "cell_type": "code",
      "source": [
        "# Assign assignment to a class\n",
        "def assign_homework(class_id: int, title: str):\n",
        "    assignments.append(Assignment(class_id=class_id, title=title, due_date=datetime(2024, 5, 1)))\n",
        "    print(f\"Assignment '{title}' assigned to class {class_id}\")"
      ],
      "metadata": {
        "id": "ARGaAydF_QuF"
      },
      "execution_count": null,
      "outputs": []
    },
    {
      "cell_type": "code",
      "source": [
        "# Student provides review\n",
        "def add_review(student_id: int, course_id: int, rating: int, comment: str):\n",
        "    reviews.append(Review(student_id, course_id, rating, comment))\n",
        "    print(f\"Review added by {students[student_id].name} for {courses[course_id].title}\")\n"
      ],
      "metadata": {
        "id": "CHzgInnV_SbR"
      },
      "execution_count": null,
      "outputs": []
    },
    {
      "cell_type": "code",
      "source": [
        "# Simulasi\n",
        "print(\"\\n--- Start Simulation ---\\n\")"
      ],
      "metadata": {
        "colab": {
          "base_uri": "https://localhost:8080/"
        },
        "id": "5LcVEkhh_U2f",
        "outputId": "bac50a77-68a6-4224-9229-4f5905e8f1fe"
      },
      "execution_count": null,
      "outputs": [
        {
          "output_type": "stream",
          "name": "stdout",
          "text": [
            "\n",
            "--- Start Simulation ---\n",
            "\n"
          ]
        }
      ]
    },
    {
      "cell_type": "code",
      "source": [
        "# Randomly enroll students to courses\n",
        "for student_id in students:\n",
        "    for _ in range(2):  # Each student enrolls in 2 random courses\n",
        "        cid = random.choice(list(courses.keys()))\n",
        "        enroll(student_id, cid)"
      ],
      "metadata": {
        "colab": {
          "base_uri": "https://localhost:8080/"
        },
        "id": "iWMi71Uh_Wv_",
        "outputId": "aef0c8a6-3aa0-45c5-ed8b-cbf6f41fd792"
      },
      "execution_count": null,
      "outputs": [
        {
          "output_type": "stream",
          "name": "stdout",
          "text": [
            "Student Charlie enrolled in Intro to AWS\n",
            "Student Charlie enrolled in Intro to AWS\n",
            "Student Dana enrolled in Python Basics\n",
            "Student Dana enrolled in Cloud Fundamentals\n",
            "Student Eli enrolled in Intro to AWS\n",
            "Student Eli enrolled in Cloud Fundamentals\n",
            "Student Fiona enrolled in Data Modeling\n",
            "Student Fiona enrolled in Data Modeling\n",
            "Student George enrolled in Intro to AWS\n",
            "Student George enrolled in Learn SQL\n",
            "Student Hannah enrolled in Data Modeling\n",
            "Student Hannah enrolled in Intro to AWS\n",
            "Student Ian enrolled in Learn SQL\n",
            "Student Ian enrolled in Python Basics\n",
            "Student Jill enrolled in Cloud Fundamentals\n",
            "Student Jill enrolled in Data Modeling\n",
            "Student Kevin enrolled in Cloud Fundamentals\n",
            "Student Kevin enrolled in Data Modeling\n",
            "Student Lena enrolled in Learn SQL\n",
            "Student Lena enrolled in Python Basics\n"
          ]
        }
      ]
    },
    {
      "cell_type": "code",
      "source": [
        "# Trainers view students and give assignments\n",
        "for trainer_id in trainers:\n",
        "    view_student(trainer_id)\n",
        "    assign_homework(class_id=trainer_id, title=f\"Assignment for class {trainer_id}\")"
      ],
      "metadata": {
        "colab": {
          "base_uri": "https://localhost:8080/"
        },
        "id": "_A390gQA_Yrc",
        "outputId": "4bef91a1-3ed4-452d-91e2-608c584fdc7e"
      },
      "execution_count": null,
      "outputs": [
        {
          "output_type": "stream",
          "name": "stdout",
          "text": [
            "Trainer Alice viewed a student. Remaining coins: 95\n",
            "Assignment 'Assignment for class 1' assigned to class 1\n",
            "Trainer Bob viewed a student. Remaining coins: 95\n",
            "Assignment 'Assignment for class 2' assigned to class 2\n",
            "Trainer Cindy viewed a student. Remaining coins: 95\n",
            "Assignment 'Assignment for class 3' assigned to class 3\n",
            "Trainer David viewed a student. Remaining coins: 95\n",
            "Assignment 'Assignment for class 4' assigned to class 4\n",
            "Trainer Eva viewed a student. Remaining coins: 95\n",
            "Assignment 'Assignment for class 5' assigned to class 5\n"
          ]
        }
      ]
    },
    {
      "cell_type": "code",
      "source": [
        "# Students give random reviews\n",
        "comments = [\"Excellent!\", \"Very good\", \"Average\", \"Could be better\", \"Loved it\"]\n",
        "for enrollment in enrollments:\n",
        "    if random.random() < 0.7:  # 70% chance to leave a review\n",
        "        add_review(\n",
        "            student_id=enrollment.student_id,\n",
        "            course_id=enrollment.course_id,\n",
        "            rating=random.randint(3, 5),\n",
        "            comment=random.choice(comments)\n",
        "        )"
      ],
      "metadata": {
        "colab": {
          "base_uri": "https://localhost:8080/"
        },
        "id": "ts0kM2d8_anW",
        "outputId": "d96eb821-5146-4b02-e672-48434fdb9f53"
      },
      "execution_count": null,
      "outputs": [
        {
          "output_type": "stream",
          "name": "stdout",
          "text": [
            "Review added by Dana for Python Basics\n",
            "Review added by Eli for Intro to AWS\n",
            "Review added by Fiona for Data Modeling\n",
            "Review added by Fiona for Data Modeling\n",
            "Review added by George for Intro to AWS\n",
            "Review added by George for Learn SQL\n",
            "Review added by Hannah for Data Modeling\n",
            "Review added by Hannah for Intro to AWS\n",
            "Review added by Ian for Learn SQL\n",
            "Review added by Jill for Cloud Fundamentals\n",
            "Review added by Kevin for Cloud Fundamentals\n",
            "Review added by Lena for Learn SQL\n",
            "Review added by Lena for Python Basics\n"
          ]
        }
      ]
    },
    {
      "cell_type": "code",
      "source": [
        "print(\"\\n--- End Simulation ---\")"
      ],
      "metadata": {
        "colab": {
          "base_uri": "https://localhost:8080/"
        },
        "id": "qU30zWu7_dSB",
        "outputId": "78d5458e-1509-4f4c-b862-d300343b7375"
      },
      "execution_count": null,
      "outputs": [
        {
          "output_type": "stream",
          "name": "stdout",
          "text": [
            "\n",
            "--- End Simulation ---\n"
          ]
        }
      ]
    },
    {
      "cell_type": "code",
      "source": [
        "# Simpan enrollments\n",
        "with open(\"enrollments.csv\", \"w\", newline=\"\") as f:\n",
        "    writer = csv.writer(f)\n",
        "    writer.writerow([\"student_id\", \"student_name\", \"course_id\", \"course_title\", \"status\"])\n",
        "    for e in enrollments:\n",
        "        writer.writerow([\n",
        "            e.student_id,\n",
        "            students[e.student_id].name,\n",
        "            e.course_id,\n",
        "            courses[e.course_id].title,\n",
        "            e.status\n",
        "        ])"
      ],
      "metadata": {
        "id": "twQtSkDUAg1Z"
      },
      "execution_count": null,
      "outputs": []
    },
    {
      "cell_type": "code",
      "source": [
        "# Simpan assignments\n",
        "with open(\"assignments.csv\", \"w\", newline=\"\") as f:\n",
        "    writer = csv.writer(f)\n",
        "    writer.writerow([\"class_id\", \"trainer_name\", \"title\", \"due_date\"])\n",
        "    for a in assignments:\n",
        "        writer.writerow([\n",
        "            a.class_id,\n",
        "            trainers[a.class_id].name,\n",
        "            a.title,\n",
        "            a.due_date.strftime(\"%Y-%m-%d\")\n",
        "        ])\n"
      ],
      "metadata": {
        "id": "IygR5fd6AkVe"
      },
      "execution_count": null,
      "outputs": []
    },
    {
      "cell_type": "code",
      "source": [
        "# Simpan reviews\n",
        "with open(\"reviews.csv\", \"w\", newline=\"\") as f:\n",
        "    writer = csv.writer(f)\n",
        "    writer.writerow([\"student_id\", \"student_name\", \"course_id\", \"course_title\", \"rating\", \"comment\"])\n",
        "    for r in reviews:\n",
        "        writer.writerow([\n",
        "            r.student_id,\n",
        "            students[r.student_id].name,\n",
        "            r.course_id,\n",
        "            courses[r.course_id].title,\n",
        "            r.rating,\n",
        "            r.comment\n",
        "        ])"
      ],
      "metadata": {
        "id": "5wauk_q1Amcg"
      },
      "execution_count": null,
      "outputs": []
    },
    {
      "cell_type": "code",
      "source": [
        "# Simpan coin saldo trainer\n",
        "with open(\"trainer_coins.csv\", \"w\", newline=\"\") as f:\n",
        "    writer = csv.writer(f)\n",
        "    writer.writerow([\"trainer_id\", \"trainer_name\", \"remaining_coins\"])\n",
        "    for t in trainers.values():\n",
        "        writer.writerow([t.id, t.name, t.coins])"
      ],
      "metadata": {
        "id": "8gBRrtCCArUD"
      },
      "execution_count": null,
      "outputs": []
    }
  ]
}